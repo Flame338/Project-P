{
  "nbformat": 4,
  "nbformat_minor": 0,
  "metadata": {
    "colab": {
      "provenance": [],
      "authorship_tag": "ABX9TyM7MRxcQGlKcGtVn5dpIbNA",
      "include_colab_link": true
    },
    "kernelspec": {
      "name": "python3",
      "display_name": "Python 3"
    },
    "language_info": {
      "name": "python"
    }
  },
  "cells": [
    {
      "cell_type": "markdown",
      "metadata": {
        "id": "view-in-github",
        "colab_type": "text"
      },
      "source": [
        "<a href=\"https://colab.research.google.com/github/Flame338/Project-P/blob/main/CreditCard.ipynb\" target=\"_parent\"><img src=\"https://colab.research.google.com/assets/colab-badge.svg\" alt=\"Open In Colab\"/></a>"
      ]
    },
    {
      "cell_type": "markdown",
      "source": [
        "# New Section"
      ],
      "metadata": {
        "id": "SeGR2WkYkP48"
      }
    },
    {
      "cell_type": "code",
      "source": [
        "import pandas as pd\n",
        "from sklearn.model_selection import train_test_split\n",
        "from sklearn.ensemble import RandomForestClassifier\n",
        "from sklearn.metrics import accuracy_score, confusion_matrix\n",
        "\n",
        "np.random.seed(123)\n",
        "\n",
        "df = pd.read_csv(\"creditcard1.csv\")\n",
        "\n",
        "# Splitting the data into training and testing sets\n",
        "X_train, X_test, y_train, y_test = train_test_split(df.iloc[:, :-1], df['Class'], train_size = 0.70, test_size = 0.30, random_state = 1)\n",
        "\n",
        "# Creating an instance of Random Forest Classifier\n",
        "rfc = RandomForestClassifier(random_state=1)\n",
        "\n",
        "# Fitting the model on the training data\n",
        "rfc.fit(X_train, y_train)\n",
        "\n",
        "# Making predictions on the test set\n",
        "pred = rfc.predict(X_test)\n",
        "\n",
        "# Calculating the accuracy score\n",
        "acc = accuracy_score(y_test, pred)\n",
        "print(\"Accuracy: \", acc)\n",
        "\n",
        "# Generating the confusion matrix\n",
        "cmat = confusion_matrix(y_test, pred)\n",
        "print(\"Confusion matrix: \\n\", cmat)\n"
      ],
      "metadata": {
        "colab": {
          "base_uri": "https://localhost:8080/"
        },
        "id": "wJrNtDZpXl2g",
        "outputId": "d48904dd-4c05-4114-8178-40b2ec6651e2"
      },
      "execution_count": 17,
      "outputs": [
        {
          "output_type": "stream",
          "name": "stdout",
          "text": [
            "Accuracy:  1.0\n",
            "Confusion matrix: \n",
            " [[30]]\n"
          ]
        }
      ]
    },
    {
      "cell_type": "code",
      "source": [
        "import pandas as pd\n",
        "import matplotlib.pyplot as plt\n",
        "import seaborn as sns\n",
        "import numpy as np \n",
        "from sklearn.model_selection import train_test_split\n",
        "from sklearn.ensemble import RandomForestClassifier\n",
        "from sklearn.metrics import accuracy_score\n",
        "\n",
        "np.random.seed(123)\n",
        "\n",
        "df = pd.read_csv(\"creditcard1.csv\")\n",
        "\n",
        "# Splitting the data into training and testing sets\n",
        "X_train, X_test, y_train, y_test = train_test_split(df.iloc[:, 1:30], df.iloc[:, 30:], train_size = 0.70, test_size = 0.30, random_state = 1)\n",
        "\n",
        "# Creating an instance of Random Forest Classifier\n",
        "rfc = RandomForestClassifier(random_state=1)\n",
        "\n",
        "# Fitting the model on the training data\n",
        "rfc.fit(X_train, y_train)\n",
        "\n",
        "# Making predictions on the test set\n",
        "pred = rfc.predict(X_test)\n",
        "\n",
        "# Calculating the accuracy score\n",
        "acc = accuracy_score(y_test, pred)\n",
        "print(\"Accuracy: \", acc)\n",
        "\n",
        "# Plotting the results as a box plot\n",
        "sns.boxplot(y_test[\"Class\"], pred)\n",
        "plt.xlabel(\"Predicted Class\")\n",
        "plt.ylabel(\"True Class\")\n",
        "plt.show()\n",
        "\n",
        "# Generating the confusion matrix\n",
        "cmat = confusion_matrix(y_test, pred)\n",
        "print(\"Confusion matrix: \\n\", cmat)\n",
        "\n"
      ],
      "metadata": {
        "colab": {
          "base_uri": "https://localhost:8080/",
          "height": 331
        },
        "id": "z0-vOqB2a86s",
        "outputId": "31741aa9-9c48-46aa-8e08-790a12ee7b60"
      },
      "execution_count": 22,
      "outputs": [
        {
          "output_type": "stream",
          "name": "stdout",
          "text": [
            "Accuracy:  1.0\n"
          ]
        },
        {
          "output_type": "display_data",
          "data": {
            "text/plain": [
              "<Figure size 432x288 with 1 Axes>"
            ],
            "image/png": "[encoded data removed]"
          },
          "metadata": {}
        },
        {
          "output_type": "stream",
          "name": "stdout",
          "text": [
            "Confusion matrix: \n",
            " [[30]]\n"
          ]
        }
      ]
    },
    {
      "cell_type": "code",
      "source": [
        "import pandas as pd\n",
        "from sklearn.model_selection import train_test_split\n",
        "from sklearn.linear_model import LinearRegression\n",
        "from sklearn.metrics import accuracy_score, f1_score, roc_auc_score\n",
        "\n",
        "df = pd.read_csv(\"creditcard.csv\")\n",
        "\n",
        "# Splitting the data into training and testing sets\n",
        "X_train, X_test, y_train, y_test = train_test_split(df.iloc[:, 1:30], df.iloc[:, 30:], train_size = 0.70, test_size = 0.30, random_state = 1)\n",
        "\n",
        "# Creating an instance of Linear Regression\n",
        "lr = LinearRegression()\n",
        "\n",
        "# Fitting the model on the training data\n",
        "lr.fit(X_train, y_train)\n",
        "\n",
        "# Making predictions on the test set\n",
        "pred = lr.predict(X_test)\n",
        "\n",
        "# Round predictions to make them binary\n",
        "pred = np.round(pred)\n",
        "\n",
        "# Calculating the accuracy\n",
        "acc = accuracy_score(y_test, pred)\n",
        "print(\"Accuracy: \", acc)\n",
        "\n",
        "# Calculating the F1-Score\n",
        "f1 = f1_score(y_test, pred)\n",
        "print(\"F1-Score: \", f1)\n"
      ],
      "metadata": {
        "colab": {
          "base_uri": "https://localhost:8080/"
        },
        "id": "pEryStX-nAH_",
        "outputId": "58b64b0f-0c08-40ae-86be-760c9711b349"
      },
      "execution_count": 29,
      "outputs": [
        {
          "output_type": "stream",
          "name": "stdout",
          "text": [
            "Accuracy:  0.9988764439450862\n",
            "F1-Score:  0.52\n"
          ]
        }
      ]
    },
    {
      "cell_type": "code",
      "source": [
        "import pandas as pd\n",
        "import numpy as np\n",
        "from sklearn.model_selection import train_test_split\n",
        "from sklearn.linear_model import LogisticRegression\n",
        "from sklearn.metrics import accuracy_score, f1_score, roc_auc_score\n",
        "from sklearn.datasets import make_classification\n",
        "\n",
        "# Creating a synthetic dataset\n",
        "X, y = make_classification(n_classes=2, n_samples=10000, n_features=29, random_state=1)\n",
        "\n",
        "# Converting to a dataframe\n",
        "df = pd.DataFrame(np.hstack((X, y.reshape(-1,1))), columns=['feature1','feature2','feature3','feature4','feature5','feature6','feature7','feature8','feature9','feature10','feature11','feature12','feature13','feature14','feature15','feature16','feature17','feature18','feature19','feature20','feature21','feature22','feature23','feature24','feature25','feature26','feature27','feature28','feature29','target'])\n",
        "\n",
        "# Splitting the data into training and testing sets\n",
        "X_train, X_test, y_train, y_test = train_test_split(df.iloc[:, :-1], df.iloc[:, -1], train_size = 0.70, test_size = 0.30, random_state = 1)\n",
        "\n",
        "# Creating an instance of Logistic Regression\n",
        "lr = LogisticRegression()\n",
        "\n",
        "# Fitting the model on the training data\n",
        "lr.fit(X_train, y_train)\n",
        "\n",
        "# Making predictions on the test set\n",
        "pred = lr.predict(X_test)\n",
        "\n",
        "# Calculating the accuracy\n",
        "acc = accuracy_score(y_test, pred)\n",
        "print(\"Accuracy: \", acc)\n",
        "\n",
        "# Calculating the F1-Score\n",
        "f1 = f1_score(y_test, pred)\n",
        "print(\"F1-Score: \", f1)\n",
        "\n",
        "# Calculating the AUC-ROC Score\n",
        "roc_auc = roc_auc_score(y_test, pred)\n",
        "print(\"AUC-ROC Score:\", roc_auc)\n",
        "\n",
        "#Generating the Classification Report\n",
        "cr = classification_report(y_test, pred)\n",
        "print(\"Classification report: \\n\", cr)\n",
        "\n",
        "#plotting the roc curve\n",
        "fpr, tpr, thresholds = roc_curve(y_test, pred)\n",
        "plt.plot(fpr, tpr)\n",
        "plt.xlabel('False Positive Rate')\n",
        "plt.ylabel('True Positive Rate')\n",
        "plt.title('ROC Curve')\n",
        "plt.show()\n"
      ],
      "metadata": {
        "colab": {
          "base_uri": "https://localhost:8080/"
        },
        "id": "aQT0LwgRrg13",
        "outputId": "5ae06e8a-6ff7-40c0-ef3a-105e21531039"
      },
      "execution_count": 33,
      "outputs": [
        {
          "output_type": "stream",
          "name": "stdout",
          "text": [
            "Accuracy:  0.8693333333333333\n",
            "F1-Score:  0.8669382213170401\n",
            "AUC-ROC Score: 0.869244965011094\n",
            "Classification report: \n",
            "               precision    recall  f1-score   support\n",
            "\n",
            "         0.0       0.86      0.88      0.87      1512\n",
            "         1.0       0.88      0.86      0.87      1488\n",
            "\n",
            "    accuracy                           0.87      3000\n",
            "   macro avg       0.87      0.87      0.87      3000\n",
            "weighted avg       0.87      0.87      0.87      3000\n",
            "\n"
          ]
        }
      ]
    },
    {
      "cell_type": "code",
      "source": [
        "import pandas as pd\n",
        "import matplotlib.pyplot as plt\n",
        "import seaborn as sns\n",
        "import numpy as np \n",
        "from sklearn.model_selection import train_test_split\n",
        "from sklearn.linear_model import LogisticRegression\n",
        "from sklearn.metrics import accuracy_score, f1_score, roc_auc_score\n",
        "\n",
        "np.random.seed(123)\n",
        "\n",
        "# Load the data\n",
        "df = pd.read_csv(\"creditcard1.csv\")\n",
        "\n",
        "# Split the data into training and testing sets\n",
        "X_train, X_test, y_train, y_test = train_test_split(df.iloc[:, 1:30], df.iloc[:, 30:], train_size = 0.70, test_size = 0.30, random_state = 1)\n",
        "\n",
        "# Create an instance of Logistic Regression\n",
        "log_reg = LogisticRegression()\n",
        "\n",
        "# Fit the model on the training data\n",
        "log_reg.fit(X_train, y_train)\n",
        "\n",
        "# Make predictions on the test set\n",
        "pred = log_reg.predict(X_test)\n",
        "\n",
        "# Calculate accuracy\n",
        "acc = accuracy_score(y_test, pred)\n",
        "print(\"Accuracy: \", acc)\n",
        "\n",
        "# Calculate f1_score\n",
        "f1 = f1_score(y_test, pred)\n",
        "print(\"F1-Score: \", f1)\n",
        "\n",
        "# Calculate roc_auc\n",
        "roc_auc = roc_auc_score(y_test, pred)\n",
        "print(\"ROC-AUC Score: \", roc_auc)\n",
        "\n",
        "# Visualize the results\n",
        "sns.boxplot(x=pred)\n",
        "plt.show()\n",
        "\n",
        "sns.distplot(pred, hist=True, kde=True, \n",
        "             bins=int(180/5), color = 'darkblue', \n",
        "             hist_kws={'edgecolor':'black'},\n",
        "             kde_kws={'linewidth': 4})\n",
        "plt.show()\n",
        "\n",
        "sns.scatterplot(x=y_test, y=pred)\n",
        "plt.show()\n"
      ],
      "metadata": {
        "colab": {
          "base_uri": "https://localhost:8080/",
          "height": 373
        },
        "id": "Hnvrq__Cnh68",
        "outputId": "7bd40283-b19a-46c5-ab98-17b7e59c48d9"
      },
      "execution_count": 34,
      "outputs": [
        {
          "output_type": "error",
          "ename": "ValueError",
          "evalue": "ignored",
          "traceback": [
            "\u001b[0;31m---------------------------------------------------------------------------\u001b[0m",
            "\u001b[0;31mValueError\u001b[0m                                Traceback (most recent call last)",
            "\u001b[0;32m<ipython-input-34-6dbcf3791ece>\u001b[0m in \u001b[0;36m<module>\u001b[0;34m\u001b[0m\n\u001b[1;32m     19\u001b[0m \u001b[0;34m\u001b[0m\u001b[0m\n\u001b[1;32m     20\u001b[0m \u001b[0;31m# Fit the model on the training data\u001b[0m\u001b[0;34m\u001b[0m\u001b[0;34m\u001b[0m\u001b[0;34m\u001b[0m\u001b[0m\n\u001b[0;32m---> 21\u001b[0;31m \u001b[0mlog_reg\u001b[0m\u001b[0;34m.\u001b[0m\u001b[0mfit\u001b[0m\u001b[0;34m(\u001b[0m\u001b[0mX_train\u001b[0m\u001b[0;34m,\u001b[0m \u001b[0my_train\u001b[0m\u001b[0;34m)\u001b[0m\u001b[0;34m\u001b[0m\u001b[0;34m\u001b[0m\u001b[0m\n\u001b[0m\u001b[1;32m     22\u001b[0m \u001b[0;34m\u001b[0m\u001b[0m\n\u001b[1;32m     23\u001b[0m \u001b[0;31m# Make predictions on the test set\u001b[0m\u001b[0;34m\u001b[0m\u001b[0;34m\u001b[0m\u001b[0;34m\u001b[0m\u001b[0m\n",
            "\u001b[0;32m/usr/local/lib/python3.8/dist-packages/sklearn/linear_model/_logistic.py\u001b[0m in \u001b[0;36mfit\u001b[0;34m(self, X, y, sample_weight)\u001b[0m\n\u001b[1;32m   1552\u001b[0m         \u001b[0mclasses_\u001b[0m \u001b[0;34m=\u001b[0m \u001b[0mself\u001b[0m\u001b[0;34m.\u001b[0m\u001b[0mclasses_\u001b[0m\u001b[0;34m\u001b[0m\u001b[0;34m\u001b[0m\u001b[0m\n\u001b[1;32m   1553\u001b[0m         \u001b[0;32mif\u001b[0m \u001b[0mn_classes\u001b[0m \u001b[0;34m<\u001b[0m \u001b[0;36m2\u001b[0m\u001b[0;34m:\u001b[0m\u001b[0;34m\u001b[0m\u001b[0;34m\u001b[0m\u001b[0m\n\u001b[0;32m-> 1554\u001b[0;31m             raise ValueError(\n\u001b[0m\u001b[1;32m   1555\u001b[0m                 \u001b[0;34m\"This solver needs samples of at least 2 classes\"\u001b[0m\u001b[0;34m\u001b[0m\u001b[0;34m\u001b[0m\u001b[0m\n\u001b[1;32m   1556\u001b[0m                 \u001b[0;34m\" in the data, but the data contains only one\"\u001b[0m\u001b[0;34m\u001b[0m\u001b[0;34m\u001b[0m\u001b[0m\n",
            "\u001b[0;31mValueError\u001b[0m: This solver needs samples of at least 2 classes in the data, but the data contains only one class: 0"
          ]
        }
      ]
    },
    {
      "cell_type": "code",
      "source": [
        "import pandas as pd\n",
        "import matplotlib.pyplot as plt\n",
        "import seaborn as sns\n",
        "from sklearn.model_selection import train_test_split\n",
        "from sklearn.linear_model import LogisticRegression\n",
        "from sklearn.metrics import accuracy_score, confusion_matrix, classification_report, roc_auc_score, f1_score\n",
        "from sklearn.metrics import roc_curve\n",
        "\n",
        "# Read in the data and split into training and testing sets\n",
        "df = pd.read_csv(\"creditcard.csv\")\n",
        "X_train, X_test, y_train, y_test = train_test_split(df.iloc[:, 1:30], df.iloc[:, 30:], train_size = 0.70, test_size = 0.30, random_state = 1)\n",
        "\n",
        "# Fit the logistic regression model to the training data\n",
        "lr = LogisticRegression()\n",
        "lr.fit(X_train, y_train)\n",
        "\n",
        "# Make predictions on the test set\n",
        "pred = lr.predict(X_test)\n",
        "\n",
        "# Calculate the accuracy, F1-score, and AUC-ROC score\n",
        "acc = accuracy_score(y_test, pred)\n",
        "f1 = f1_score(y_test, pred)\n",
        "roc_auc = roc_auc_score(y_test, pred)\n",
        "\n",
        "print(\"Accuracy: \", acc)\n",
        "print(\"F1-Score: \", f1)\n",
        "print(\"AUC-ROC Score: \", roc_auc)\n",
        "\n",
        "# Generate the confusion matrix\n",
        "cmat = confusion_matrix(y_test, pred)\n",
        "print(\"Confusion matrix: \\n\", cmat)\n",
        "\n",
        "# Generate the classification report\n",
        "cr = classification_report(y_test, pred)\n",
        "print(\"Classification report: \\n\", cr)\n",
        "\n",
        "# Plot ROC curve\n",
        "fpr, tpr, thresholds = roc_curve(y_test, pred)\n",
        "plt.plot(fpr, tpr, label='ROC curve')\n",
        "plt.plot([0, 1], [0, 1], 'k--')\n",
        "plt.xlabel('False Positive Rate')\n",
        "plt.ylabel('True Positive Rate')\n",
        "plt.title('ROC Curve')\n",
        "plt.show()\n",
        "\n",
        "\n",
        "\n"
      ],
      "metadata": {
        "colab": {
          "base_uri": "https://localhost:8080/",
          "height": 573
        },
        "id": "-N2lJvhEtF7q",
        "outputId": "9b117957-6ff0-42b4-a2d3-433b77760e65"
      },
      "execution_count": 38,
      "outputs": [
        {
          "output_type": "stream",
          "name": "stdout",
          "text": [
            "Accuracy:  0.999133925541004\n",
            "F1-Score:  0.6696428571428572\n",
            "AUC-ROC Score:  0.7776957221675185\n",
            "Confusion matrix: \n",
            " [[85294    14]\n",
            " [   60    75]]\n",
            "Classification report: \n",
            "               precision    recall  f1-score   support\n",
            "\n",
            "           0       1.00      1.00      1.00     85308\n",
            "           1       0.84      0.56      0.67       135\n",
            "\n",
            "    accuracy                           1.00     85443\n",
            "   macro avg       0.92      0.78      0.83     85443\n",
            "weighted avg       1.00      1.00      1.00     85443\n",
            "\n"
          ]
        },
        {
          "output_type": "display_data",
          "data": {
            "text/plain": [
              "<Figure size 432x288 with 1 Axes>"
            ],
            "image/png": "[encoded data removed]"
          },
          "metadata": {}
        }
      ]
    }
  ]
}